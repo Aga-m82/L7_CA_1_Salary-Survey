{
 "cells": [
  {
   "cell_type": "code",
   "execution_count": 1,
   "id": "0f71c9cd-87f0-417b-a9f4-045a777241dc",
   "metadata": {},
   "outputs": [],
   "source": [
    "import pandas as pd\n",
    "import statistics as states\n",
    "import numpy as np\n",
    "import matplotlib.pyplot as plt\n",
    "import seaborn as sns"
   ]
  },
  {
   "cell_type": "code",
   "execution_count": 2,
   "id": "9259cdf8-0280-45ce-bc23-259d4416c072",
   "metadata": {},
   "outputs": [],
   "source": [
    "df = pd.read_csv(\"salary_survey.csv\")"
   ]
  },
  {
   "cell_type": "code",
   "execution_count": 3,
   "id": "4e7da993-97e5-4f90-b97f-275f8b9860fe",
   "metadata": {},
   "outputs": [
    {
     "data": {
      "text/html": [
       "<div>\n",
       "<style scoped>\n",
       "    .dataframe tbody tr th:only-of-type {\n",
       "        vertical-align: middle;\n",
       "    }\n",
       "\n",
       "    .dataframe tbody tr th {\n",
       "        vertical-align: top;\n",
       "    }\n",
       "\n",
       "    .dataframe thead th {\n",
       "        text-align: right;\n",
       "    }\n",
       "</style>\n",
       "<table border=\"1\" class=\"dataframe\">\n",
       "  <thead>\n",
       "    <tr style=\"text-align: right;\">\n",
       "      <th></th>\n",
       "      <th>Timestamp</th>\n",
       "      <th>How old are you?</th>\n",
       "      <th>What industry do you work in?</th>\n",
       "      <th>Job title</th>\n",
       "      <th>If your job title needs additional context, please clarify here:</th>\n",
       "      <th>What is your annual salary? (You'll indicate the currency in a later question. If you are part-time or hourly, please enter an annualized equivalent -- what you would earn if you worked the job 40 hours a week, 52 weeks a year.)</th>\n",
       "      <th>How much additional monetary compensation do you get, if any (for example, bonuses or overtime in an average year)? Please only include monetary compensation here, not the value of benefits.</th>\n",
       "      <th>Please indicate the currency</th>\n",
       "      <th>If \"Other,\" please indicate the currency here:</th>\n",
       "      <th>If your income needs additional context, please provide it here:</th>\n",
       "      <th>...</th>\n",
       "      <th>How many years of professional work experience do you have overall?</th>\n",
       "      <th>How many years of professional work experience do you have in your field?</th>\n",
       "      <th>What is your highest level of education completed?</th>\n",
       "      <th>What is your gender?</th>\n",
       "      <th>Unnamed: 17</th>\n",
       "      <th>Unnamed: 18</th>\n",
       "      <th>Unnamed: 19</th>\n",
       "      <th>Unnamed: 20</th>\n",
       "      <th>Unnamed: 21</th>\n",
       "      <th>Unnamed: 22</th>\n",
       "    </tr>\n",
       "  </thead>\n",
       "  <tbody>\n",
       "    <tr>\n",
       "      <th>0</th>\n",
       "      <td>4/27/2021 11:02:10</td>\n",
       "      <td>25-34</td>\n",
       "      <td>Education (Higher Education)</td>\n",
       "      <td>Research and Instruction Librarian</td>\n",
       "      <td>NaN</td>\n",
       "      <td>55,000</td>\n",
       "      <td>0.0</td>\n",
       "      <td>USD</td>\n",
       "      <td>NaN</td>\n",
       "      <td>NaN</td>\n",
       "      <td>...</td>\n",
       "      <td>5-7 years</td>\n",
       "      <td>5-7 years</td>\n",
       "      <td>Master's degree</td>\n",
       "      <td>Woman</td>\n",
       "      <td>NaN</td>\n",
       "      <td>NaN</td>\n",
       "      <td>NaN</td>\n",
       "      <td>NaN</td>\n",
       "      <td>NaN</td>\n",
       "      <td>NaN</td>\n",
       "    </tr>\n",
       "    <tr>\n",
       "      <th>1</th>\n",
       "      <td>4/27/2021 11:02:22</td>\n",
       "      <td>25-34</td>\n",
       "      <td>Computing or Tech</td>\n",
       "      <td>Change &amp; Internal Communications Manager</td>\n",
       "      <td>NaN</td>\n",
       "      <td>54,600</td>\n",
       "      <td>4000.0</td>\n",
       "      <td>GBP</td>\n",
       "      <td>NaN</td>\n",
       "      <td>NaN</td>\n",
       "      <td>...</td>\n",
       "      <td>8 - 10 years</td>\n",
       "      <td>5-7 years</td>\n",
       "      <td>College degree</td>\n",
       "      <td>Non-binary</td>\n",
       "      <td>NaN</td>\n",
       "      <td>NaN</td>\n",
       "      <td>NaN</td>\n",
       "      <td>NaN</td>\n",
       "      <td>NaN</td>\n",
       "      <td>NaN</td>\n",
       "    </tr>\n",
       "    <tr>\n",
       "      <th>2</th>\n",
       "      <td>4/27/2021 11:02:38</td>\n",
       "      <td>25-34</td>\n",
       "      <td>Accounting, Banking &amp; Finance</td>\n",
       "      <td>Marketing Specialist</td>\n",
       "      <td>NaN</td>\n",
       "      <td>34,000</td>\n",
       "      <td>NaN</td>\n",
       "      <td>USD</td>\n",
       "      <td>NaN</td>\n",
       "      <td>NaN</td>\n",
       "      <td>...</td>\n",
       "      <td>2 - 4 years</td>\n",
       "      <td>2 - 4 years</td>\n",
       "      <td>College degree</td>\n",
       "      <td>Woman</td>\n",
       "      <td>NaN</td>\n",
       "      <td>NaN</td>\n",
       "      <td>NaN</td>\n",
       "      <td>NaN</td>\n",
       "      <td>NaN</td>\n",
       "      <td>NaN</td>\n",
       "    </tr>\n",
       "    <tr>\n",
       "      <th>3</th>\n",
       "      <td>4/27/2021 11:02:41</td>\n",
       "      <td>25-34</td>\n",
       "      <td>Nonprofits</td>\n",
       "      <td>Program Manager</td>\n",
       "      <td>NaN</td>\n",
       "      <td>62,000</td>\n",
       "      <td>3000.0</td>\n",
       "      <td>USD</td>\n",
       "      <td>NaN</td>\n",
       "      <td>NaN</td>\n",
       "      <td>...</td>\n",
       "      <td>8 - 10 years</td>\n",
       "      <td>5-7 years</td>\n",
       "      <td>College degree</td>\n",
       "      <td>Woman</td>\n",
       "      <td>NaN</td>\n",
       "      <td>NaN</td>\n",
       "      <td>NaN</td>\n",
       "      <td>NaN</td>\n",
       "      <td>NaN</td>\n",
       "      <td>NaN</td>\n",
       "    </tr>\n",
       "    <tr>\n",
       "      <th>4</th>\n",
       "      <td>4/27/2021 11:02:42</td>\n",
       "      <td>25-34</td>\n",
       "      <td>Accounting, Banking &amp; Finance</td>\n",
       "      <td>Accounting Manager</td>\n",
       "      <td>NaN</td>\n",
       "      <td>60,000</td>\n",
       "      <td>7000.0</td>\n",
       "      <td>USD</td>\n",
       "      <td>NaN</td>\n",
       "      <td>NaN</td>\n",
       "      <td>...</td>\n",
       "      <td>8 - 10 years</td>\n",
       "      <td>5-7 years</td>\n",
       "      <td>College degree</td>\n",
       "      <td>Woman</td>\n",
       "      <td>NaN</td>\n",
       "      <td>NaN</td>\n",
       "      <td>NaN</td>\n",
       "      <td>NaN</td>\n",
       "      <td>NaN</td>\n",
       "      <td>NaN</td>\n",
       "    </tr>\n",
       "  </tbody>\n",
       "</table>\n",
       "<p>5 rows × 23 columns</p>\n",
       "</div>"
      ],
      "text/plain": [
       "            Timestamp How old are you?  What industry do you work in?  \\\n",
       "0  4/27/2021 11:02:10            25-34   Education (Higher Education)   \n",
       "1  4/27/2021 11:02:22            25-34              Computing or Tech   \n",
       "2  4/27/2021 11:02:38            25-34  Accounting, Banking & Finance   \n",
       "3  4/27/2021 11:02:41            25-34                     Nonprofits   \n",
       "4  4/27/2021 11:02:42            25-34  Accounting, Banking & Finance   \n",
       "\n",
       "                                  Job title  \\\n",
       "0        Research and Instruction Librarian   \n",
       "1  Change & Internal Communications Manager   \n",
       "2                      Marketing Specialist   \n",
       "3                           Program Manager   \n",
       "4                        Accounting Manager   \n",
       "\n",
       "  If your job title needs additional context, please clarify here:  \\\n",
       "0                                                NaN                 \n",
       "1                                                NaN                 \n",
       "2                                                NaN                 \n",
       "3                                                NaN                 \n",
       "4                                                NaN                 \n",
       "\n",
       "  What is your annual salary? (You'll indicate the currency in a later question. If you are part-time or hourly, please enter an annualized equivalent -- what you would earn if you worked the job 40 hours a week, 52 weeks a year.)  \\\n",
       "0                                             55,000                                                                                                                                                                                     \n",
       "1                                             54,600                                                                                                                                                                                     \n",
       "2                                             34,000                                                                                                                                                                                     \n",
       "3                                             62,000                                                                                                                                                                                     \n",
       "4                                             60,000                                                                                                                                                                                     \n",
       "\n",
       "   How much additional monetary compensation do you get, if any (for example, bonuses or overtime in an average year)? Please only include monetary compensation here, not the value of benefits.  \\\n",
       "0                                                0.0                                                                                                                                                \n",
       "1                                             4000.0                                                                                                                                                \n",
       "2                                                NaN                                                                                                                                                \n",
       "3                                             3000.0                                                                                                                                                \n",
       "4                                             7000.0                                                                                                                                                \n",
       "\n",
       "  Please indicate the currency  \\\n",
       "0                          USD   \n",
       "1                          GBP   \n",
       "2                          USD   \n",
       "3                          USD   \n",
       "4                          USD   \n",
       "\n",
       "  If \"Other,\" please indicate the currency here:   \\\n",
       "0                                             NaN   \n",
       "1                                             NaN   \n",
       "2                                             NaN   \n",
       "3                                             NaN   \n",
       "4                                             NaN   \n",
       "\n",
       "  If your income needs additional context, please provide it here:  ...  \\\n",
       "0                                                NaN                ...   \n",
       "1                                                NaN                ...   \n",
       "2                                                NaN                ...   \n",
       "3                                                NaN                ...   \n",
       "4                                                NaN                ...   \n",
       "\n",
       "  How many years of professional work experience do you have overall?  \\\n",
       "0                                          5-7 years                    \n",
       "1                                       8 - 10 years                    \n",
       "2                                        2 - 4 years                    \n",
       "3                                       8 - 10 years                    \n",
       "4                                       8 - 10 years                    \n",
       "\n",
       "  How many years of professional work experience do you have in your field?  \\\n",
       "0                                          5-7 years                          \n",
       "1                                          5-7 years                          \n",
       "2                                        2 - 4 years                          \n",
       "3                                          5-7 years                          \n",
       "4                                          5-7 years                          \n",
       "\n",
       "  What is your highest level of education completed? What is your gender?  \\\n",
       "0                                    Master's degree                Woman   \n",
       "1                                     College degree           Non-binary   \n",
       "2                                     College degree                Woman   \n",
       "3                                     College degree                Woman   \n",
       "4                                     College degree                Woman   \n",
       "\n",
       "  Unnamed: 17 Unnamed: 18 Unnamed: 19  Unnamed: 20  Unnamed: 21  Unnamed: 22  \n",
       "0         NaN         NaN         NaN          NaN          NaN          NaN  \n",
       "1         NaN         NaN         NaN          NaN          NaN          NaN  \n",
       "2         NaN         NaN         NaN          NaN          NaN          NaN  \n",
       "3         NaN         NaN         NaN          NaN          NaN          NaN  \n",
       "4         NaN         NaN         NaN          NaN          NaN          NaN  \n",
       "\n",
       "[5 rows x 23 columns]"
      ]
     },
     "execution_count": 3,
     "metadata": {},
     "output_type": "execute_result"
    }
   ],
   "source": [
    "df.head()"
   ]
  },
  {
   "cell_type": "code",
   "execution_count": 4,
   "id": "bcc84f4f-a85f-401e-a692-b87cb20bbe22",
   "metadata": {},
   "outputs": [],
   "source": [
    "#allowing Pandas to recognize corrupted values.\n",
    "missing_value_formats = [\"n.a.\",\"?\",\"NA\",\"n/a\", \"na\", \"--\"]\n",
    "df = pd.read_csv(\"salary_survey.csv\", na_values = missing_value_formats)"
   ]
  },
  {
   "cell_type": "code",
   "execution_count": 5,
   "id": "eb085b37-241b-4dd7-ba44-69d5f32ba9d5",
   "metadata": {},
   "outputs": [
    {
     "data": {
      "text/plain": [
       "(28178, 23)"
      ]
     },
     "execution_count": 5,
     "metadata": {},
     "output_type": "execute_result"
    }
   ],
   "source": [
    "df.shape"
   ]
  },
  {
   "cell_type": "code",
   "execution_count": 6,
   "id": "8c8f2ca5-52dd-423b-aa85-399ae367c1fb",
   "metadata": {},
   "outputs": [
    {
     "data": {
      "text/plain": [
       "Timestamp                                                                                                                                                                                                                                object\n",
       "How old are you?                                                                                                                                                                                                                         object\n",
       "What industry do you work in?                                                                                                                                                                                                            object\n",
       "Job title                                                                                                                                                                                                                                object\n",
       "If your job title needs additional context, please clarify here:                                                                                                                                                                         object\n",
       "What is your annual salary? (You'll indicate the currency in a later question. If you are part-time or hourly, please enter an annualized equivalent -- what you would earn if you worked the job 40 hours a week, 52 weeks a year.)     object\n",
       "How much additional monetary compensation do you get, if any (for example, bonuses or overtime in an average year)? Please only include monetary compensation here, not the value of benefits.                                          float64\n",
       "Please indicate the currency                                                                                                                                                                                                             object\n",
       "If \"Other,\" please indicate the currency here:                                                                                                                                                                                           object\n",
       "If your income needs additional context, please provide it here:                                                                                                                                                                         object\n",
       "What country do you work in?                                                                                                                                                                                                             object\n",
       "If you're in the U.S., what state do you work in?                                                                                                                                                                                        object\n",
       "What city do you work in?                                                                                                                                                                                                                object\n",
       "How many years of professional work experience do you have overall?                                                                                                                                                                      object\n",
       "How many years of professional work experience do you have in your field?                                                                                                                                                                object\n",
       "What is your highest level of education completed?                                                                                                                                                                                       object\n",
       "What is your gender?                                                                                                                                                                                                                     object\n",
       "Unnamed: 17                                                                                                                                                                                                                             float64\n",
       "Unnamed: 18                                                                                                                                                                                                                             float64\n",
       "Unnamed: 19                                                                                                                                                                                                                             float64\n",
       "Unnamed: 20                                                                                                                                                                                                                             float64\n",
       "Unnamed: 21                                                                                                                                                                                                                             float64\n",
       "Unnamed: 22                                                                                                                                                                                                                             float64\n",
       "dtype: object"
      ]
     },
     "execution_count": 6,
     "metadata": {},
     "output_type": "execute_result"
    }
   ],
   "source": [
    "df.dtypes"
   ]
  },
  {
   "cell_type": "code",
   "execution_count": 7,
   "id": "35c3a9d5-36ae-4150-8467-ecbefda6dfe8",
   "metadata": {},
   "outputs": [],
   "source": [
    "df = df.rename(columns={\n",
    "    \"How old are you?\":\"Age\",\n",
    "    \"What industry do you work in?\":\"Industry\",\"Job title\":\"Job\",\n",
    "    \"If your job title needs additional context, please clarify here:\":\"JobContext\",\n",
    "    \"What is your annual salary? (You'll indicate the currency in a later question. If you are part-time or hourly, please enter an annualized equivalent -- what you would earn if you worked the job 40 hours a week, 52 weeks a year.)\":\"Salary\",\n",
    "    \"How much additional monetary compensation do you get, if any (for example, bonuses or overtime in an average year)? Please only include monetary compensation here, not the value of benefits.\":\"OvertimeBonus\",\n",
    "    \"Please indicate the currency\":\"Currency\",\n",
    "    \"If \\\"Other,\\\" please indicate the currency here: \":\"OtherCurrency\",\n",
    "    \"If your income needs additional context, please provide it here:\":\"IncomeContext\",\n",
    "    \"How many years of professional work experience do you have overall?\":\"YerasWorkExperience\",\n",
    "    \"How many years of professional work experience do you have in your field?\": \"FieldExperience\",\n",
    "    \"What is your highest level of education completed?\":\"Education\",\n",
    "    \"What is your gender?\":\"Gender\",\n",
    "    \"What city do you work in?\":\"City\",\n",
    "    \"What country do you work in?\":\"Country\",\n",
    "    \"If you're in the U.S., what state do you work in?\":\"USState\",\"Unnamed: 17\":\"U17\",\"Unnamed: 18\":\"U18\",\"Unnamed: 19\":\"U19\",\n",
    "    \"Unnamed: 20\":\"U20\",\"Unnamed: 21\":\"U21\",\"Unnamed: 22\":\"U22\",\n",
    "})"
   ]
  },
  {
   "cell_type": "code",
   "execution_count": 8,
   "id": "3678ae7f-bea3-44c0-af83-47de7b91c6cc",
   "metadata": {},
   "outputs": [
    {
     "data": {
      "text/html": [
       "<div>\n",
       "<style scoped>\n",
       "    .dataframe tbody tr th:only-of-type {\n",
       "        vertical-align: middle;\n",
       "    }\n",
       "\n",
       "    .dataframe tbody tr th {\n",
       "        vertical-align: top;\n",
       "    }\n",
       "\n",
       "    .dataframe thead th {\n",
       "        text-align: right;\n",
       "    }\n",
       "</style>\n",
       "<table border=\"1\" class=\"dataframe\">\n",
       "  <thead>\n",
       "    <tr style=\"text-align: right;\">\n",
       "      <th></th>\n",
       "      <th>Timestamp</th>\n",
       "      <th>Age</th>\n",
       "      <th>Industry</th>\n",
       "      <th>Job</th>\n",
       "      <th>JobContext</th>\n",
       "      <th>Salary</th>\n",
       "      <th>OvertimeBonus</th>\n",
       "      <th>Currency</th>\n",
       "      <th>OtherCurrency</th>\n",
       "      <th>IncomeContext</th>\n",
       "      <th>...</th>\n",
       "      <th>YerasWorkExperience</th>\n",
       "      <th>FieldExperience</th>\n",
       "      <th>Education</th>\n",
       "      <th>Gender</th>\n",
       "      <th>U17</th>\n",
       "      <th>U18</th>\n",
       "      <th>U19</th>\n",
       "      <th>U20</th>\n",
       "      <th>U21</th>\n",
       "      <th>U22</th>\n",
       "    </tr>\n",
       "  </thead>\n",
       "  <tbody>\n",
       "    <tr>\n",
       "      <th>0</th>\n",
       "      <td>4/27/2021 11:02:10</td>\n",
       "      <td>25-34</td>\n",
       "      <td>Education (Higher Education)</td>\n",
       "      <td>Research and Instruction Librarian</td>\n",
       "      <td>NaN</td>\n",
       "      <td>55,000</td>\n",
       "      <td>0.0</td>\n",
       "      <td>USD</td>\n",
       "      <td>NaN</td>\n",
       "      <td>NaN</td>\n",
       "      <td>...</td>\n",
       "      <td>5-7 years</td>\n",
       "      <td>5-7 years</td>\n",
       "      <td>Master's degree</td>\n",
       "      <td>Woman</td>\n",
       "      <td>NaN</td>\n",
       "      <td>NaN</td>\n",
       "      <td>NaN</td>\n",
       "      <td>NaN</td>\n",
       "      <td>NaN</td>\n",
       "      <td>NaN</td>\n",
       "    </tr>\n",
       "    <tr>\n",
       "      <th>1</th>\n",
       "      <td>4/27/2021 11:02:22</td>\n",
       "      <td>25-34</td>\n",
       "      <td>Computing or Tech</td>\n",
       "      <td>Change &amp; Internal Communications Manager</td>\n",
       "      <td>NaN</td>\n",
       "      <td>54,600</td>\n",
       "      <td>4000.0</td>\n",
       "      <td>GBP</td>\n",
       "      <td>NaN</td>\n",
       "      <td>NaN</td>\n",
       "      <td>...</td>\n",
       "      <td>8 - 10 years</td>\n",
       "      <td>5-7 years</td>\n",
       "      <td>College degree</td>\n",
       "      <td>Non-binary</td>\n",
       "      <td>NaN</td>\n",
       "      <td>NaN</td>\n",
       "      <td>NaN</td>\n",
       "      <td>NaN</td>\n",
       "      <td>NaN</td>\n",
       "      <td>NaN</td>\n",
       "    </tr>\n",
       "    <tr>\n",
       "      <th>2</th>\n",
       "      <td>4/27/2021 11:02:38</td>\n",
       "      <td>25-34</td>\n",
       "      <td>Accounting, Banking &amp; Finance</td>\n",
       "      <td>Marketing Specialist</td>\n",
       "      <td>NaN</td>\n",
       "      <td>34,000</td>\n",
       "      <td>NaN</td>\n",
       "      <td>USD</td>\n",
       "      <td>NaN</td>\n",
       "      <td>NaN</td>\n",
       "      <td>...</td>\n",
       "      <td>2 - 4 years</td>\n",
       "      <td>2 - 4 years</td>\n",
       "      <td>College degree</td>\n",
       "      <td>Woman</td>\n",
       "      <td>NaN</td>\n",
       "      <td>NaN</td>\n",
       "      <td>NaN</td>\n",
       "      <td>NaN</td>\n",
       "      <td>NaN</td>\n",
       "      <td>NaN</td>\n",
       "    </tr>\n",
       "    <tr>\n",
       "      <th>3</th>\n",
       "      <td>4/27/2021 11:02:41</td>\n",
       "      <td>25-34</td>\n",
       "      <td>Nonprofits</td>\n",
       "      <td>Program Manager</td>\n",
       "      <td>NaN</td>\n",
       "      <td>62,000</td>\n",
       "      <td>3000.0</td>\n",
       "      <td>USD</td>\n",
       "      <td>NaN</td>\n",
       "      <td>NaN</td>\n",
       "      <td>...</td>\n",
       "      <td>8 - 10 years</td>\n",
       "      <td>5-7 years</td>\n",
       "      <td>College degree</td>\n",
       "      <td>Woman</td>\n",
       "      <td>NaN</td>\n",
       "      <td>NaN</td>\n",
       "      <td>NaN</td>\n",
       "      <td>NaN</td>\n",
       "      <td>NaN</td>\n",
       "      <td>NaN</td>\n",
       "    </tr>\n",
       "    <tr>\n",
       "      <th>4</th>\n",
       "      <td>4/27/2021 11:02:42</td>\n",
       "      <td>25-34</td>\n",
       "      <td>Accounting, Banking &amp; Finance</td>\n",
       "      <td>Accounting Manager</td>\n",
       "      <td>NaN</td>\n",
       "      <td>60,000</td>\n",
       "      <td>7000.0</td>\n",
       "      <td>USD</td>\n",
       "      <td>NaN</td>\n",
       "      <td>NaN</td>\n",
       "      <td>...</td>\n",
       "      <td>8 - 10 years</td>\n",
       "      <td>5-7 years</td>\n",
       "      <td>College degree</td>\n",
       "      <td>Woman</td>\n",
       "      <td>NaN</td>\n",
       "      <td>NaN</td>\n",
       "      <td>NaN</td>\n",
       "      <td>NaN</td>\n",
       "      <td>NaN</td>\n",
       "      <td>NaN</td>\n",
       "    </tr>\n",
       "  </tbody>\n",
       "</table>\n",
       "<p>5 rows × 23 columns</p>\n",
       "</div>"
      ],
      "text/plain": [
       "            Timestamp    Age                       Industry  \\\n",
       "0  4/27/2021 11:02:10  25-34   Education (Higher Education)   \n",
       "1  4/27/2021 11:02:22  25-34              Computing or Tech   \n",
       "2  4/27/2021 11:02:38  25-34  Accounting, Banking & Finance   \n",
       "3  4/27/2021 11:02:41  25-34                     Nonprofits   \n",
       "4  4/27/2021 11:02:42  25-34  Accounting, Banking & Finance   \n",
       "\n",
       "                                        Job JobContext  Salary  OvertimeBonus  \\\n",
       "0        Research and Instruction Librarian        NaN  55,000            0.0   \n",
       "1  Change & Internal Communications Manager        NaN  54,600         4000.0   \n",
       "2                      Marketing Specialist        NaN  34,000            NaN   \n",
       "3                           Program Manager        NaN  62,000         3000.0   \n",
       "4                        Accounting Manager        NaN  60,000         7000.0   \n",
       "\n",
       "  Currency OtherCurrency IncomeContext  ... YerasWorkExperience  \\\n",
       "0      USD           NaN           NaN  ...           5-7 years   \n",
       "1      GBP           NaN           NaN  ...        8 - 10 years   \n",
       "2      USD           NaN           NaN  ...         2 - 4 years   \n",
       "3      USD           NaN           NaN  ...        8 - 10 years   \n",
       "4      USD           NaN           NaN  ...        8 - 10 years   \n",
       "\n",
       "  FieldExperience        Education      Gender U17 U18 U19  U20  U21  U22  \n",
       "0       5-7 years  Master's degree       Woman NaN NaN NaN  NaN  NaN  NaN  \n",
       "1       5-7 years   College degree  Non-binary NaN NaN NaN  NaN  NaN  NaN  \n",
       "2     2 - 4 years   College degree       Woman NaN NaN NaN  NaN  NaN  NaN  \n",
       "3       5-7 years   College degree       Woman NaN NaN NaN  NaN  NaN  NaN  \n",
       "4       5-7 years   College degree       Woman NaN NaN NaN  NaN  NaN  NaN  \n",
       "\n",
       "[5 rows x 23 columns]"
      ]
     },
     "execution_count": 8,
     "metadata": {},
     "output_type": "execute_result"
    }
   ],
   "source": [
    "df.head()"
   ]
  },
  {
   "cell_type": "code",
   "execution_count": 9,
   "id": "91a5316a-8d42-4b2a-821f-10218b1a4fc3",
   "metadata": {},
   "outputs": [
    {
     "data": {
      "text/html": [
       "<div>\n",
       "<style scoped>\n",
       "    .dataframe tbody tr th:only-of-type {\n",
       "        vertical-align: middle;\n",
       "    }\n",
       "\n",
       "    .dataframe tbody tr th {\n",
       "        vertical-align: top;\n",
       "    }\n",
       "\n",
       "    .dataframe thead th {\n",
       "        text-align: right;\n",
       "    }\n",
       "</style>\n",
       "<table border=\"1\" class=\"dataframe\">\n",
       "  <thead>\n",
       "    <tr style=\"text-align: right;\">\n",
       "      <th></th>\n",
       "      <th>Timestamp</th>\n",
       "      <th>Age</th>\n",
       "      <th>Industry</th>\n",
       "      <th>Job</th>\n",
       "      <th>JobContext</th>\n",
       "      <th>Salary</th>\n",
       "      <th>Currency</th>\n",
       "      <th>OtherCurrency</th>\n",
       "      <th>IncomeContext</th>\n",
       "      <th>Country</th>\n",
       "      <th>USState</th>\n",
       "      <th>City</th>\n",
       "      <th>YerasWorkExperience</th>\n",
       "      <th>FieldExperience</th>\n",
       "      <th>Education</th>\n",
       "      <th>Gender</th>\n",
       "    </tr>\n",
       "  </thead>\n",
       "  <tbody>\n",
       "    <tr>\n",
       "      <th>count</th>\n",
       "      <td>28085</td>\n",
       "      <td>28085</td>\n",
       "      <td>28011</td>\n",
       "      <td>28083</td>\n",
       "      <td>7266</td>\n",
       "      <td>28085</td>\n",
       "      <td>28085</td>\n",
       "      <td>206</td>\n",
       "      <td>3043</td>\n",
       "      <td>28084</td>\n",
       "      <td>23059</td>\n",
       "      <td>27994</td>\n",
       "      <td>28085</td>\n",
       "      <td>28085</td>\n",
       "      <td>27863</td>\n",
       "      <td>27914</td>\n",
       "    </tr>\n",
       "    <tr>\n",
       "      <th>unique</th>\n",
       "      <td>25302</td>\n",
       "      <td>7</td>\n",
       "      <td>1220</td>\n",
       "      <td>14359</td>\n",
       "      <td>7003</td>\n",
       "      <td>4314</td>\n",
       "      <td>11</td>\n",
       "      <td>120</td>\n",
       "      <td>2979</td>\n",
       "      <td>378</td>\n",
       "      <td>135</td>\n",
       "      <td>4832</td>\n",
       "      <td>8</td>\n",
       "      <td>8</td>\n",
       "      <td>6</td>\n",
       "      <td>5</td>\n",
       "    </tr>\n",
       "    <tr>\n",
       "      <th>top</th>\n",
       "      <td>4/27/2021 11:56:18</td>\n",
       "      <td>25-34</td>\n",
       "      <td>Computing or Tech</td>\n",
       "      <td>Software Engineer</td>\n",
       "      <td>Fundraising</td>\n",
       "      <td>60,000</td>\n",
       "      <td>USD</td>\n",
       "      <td>INR</td>\n",
       "      <td>Hourly</td>\n",
       "      <td>United States</td>\n",
       "      <td>California</td>\n",
       "      <td>Boston</td>\n",
       "      <td>11 - 20 years</td>\n",
       "      <td>11 - 20 years</td>\n",
       "      <td>College degree</td>\n",
       "      <td>Woman</td>\n",
       "    </tr>\n",
       "    <tr>\n",
       "      <th>freq</th>\n",
       "      <td>5</td>\n",
       "      <td>12661</td>\n",
       "      <td>4706</td>\n",
       "      <td>286</td>\n",
       "      <td>20</td>\n",
       "      <td>430</td>\n",
       "      <td>23395</td>\n",
       "      <td>11</td>\n",
       "      <td>4</td>\n",
       "      <td>9000</td>\n",
       "      <td>2610</td>\n",
       "      <td>772</td>\n",
       "      <td>9626</td>\n",
       "      <td>6539</td>\n",
       "      <td>13529</td>\n",
       "      <td>21376</td>\n",
       "    </tr>\n",
       "  </tbody>\n",
       "</table>\n",
       "</div>"
      ],
      "text/plain": [
       "                 Timestamp    Age           Industry                Job  \\\n",
       "count                28085  28085              28011              28083   \n",
       "unique               25302      7               1220              14359   \n",
       "top     4/27/2021 11:56:18  25-34  Computing or Tech  Software Engineer   \n",
       "freq                     5  12661               4706                286   \n",
       "\n",
       "         JobContext  Salary Currency OtherCurrency IncomeContext  \\\n",
       "count          7266   28085    28085           206          3043   \n",
       "unique         7003    4314       11           120          2979   \n",
       "top     Fundraising  60,000      USD           INR        Hourly   \n",
       "freq             20     430    23395            11             4   \n",
       "\n",
       "              Country     USState    City YerasWorkExperience FieldExperience  \\\n",
       "count           28084       23059   27994               28085           28085   \n",
       "unique            378         135    4832                   8               8   \n",
       "top     United States  California  Boston       11 - 20 years   11 - 20 years   \n",
       "freq             9000        2610     772                9626            6539   \n",
       "\n",
       "             Education Gender  \n",
       "count            27863  27914  \n",
       "unique               6      5  \n",
       "top     College degree  Woman  \n",
       "freq             13529  21376  "
      ]
     },
     "execution_count": 9,
     "metadata": {},
     "output_type": "execute_result"
    }
   ],
   "source": [
    "df.describe(include=object) "
   ]
  },
  {
   "cell_type": "code",
   "execution_count": 10,
   "id": "069e7ad1-c349-458f-92ff-0d50ed6defb3",
   "metadata": {},
   "outputs": [
    {
     "name": "stdout",
     "output_type": "stream",
     "text": [
      "<class 'pandas.core.frame.DataFrame'>\n",
      "RangeIndex: 28178 entries, 0 to 28177\n",
      "Data columns (total 23 columns):\n",
      " #   Column               Non-Null Count  Dtype  \n",
      "---  ------               --------------  -----  \n",
      " 0   Timestamp            28085 non-null  object \n",
      " 1   Age                  28085 non-null  object \n",
      " 2   Industry             28011 non-null  object \n",
      " 3   Job                  28083 non-null  object \n",
      " 4   JobContext           7266 non-null   object \n",
      " 5   Salary               28085 non-null  object \n",
      " 6   OvertimeBonus        20780 non-null  float64\n",
      " 7   Currency             28085 non-null  object \n",
      " 8   OtherCurrency        206 non-null    object \n",
      " 9   IncomeContext        3043 non-null   object \n",
      " 10  Country              28084 non-null  object \n",
      " 11  USState              23059 non-null  object \n",
      " 12  City                 27994 non-null  object \n",
      " 13  YerasWorkExperience  28085 non-null  object \n",
      " 14  FieldExperience      28085 non-null  object \n",
      " 15  Education            27863 non-null  object \n",
      " 16  Gender               27914 non-null  object \n",
      " 17  U17                  0 non-null      float64\n",
      " 18  U18                  0 non-null      float64\n",
      " 19  U19                  0 non-null      float64\n",
      " 20  U20                  0 non-null      float64\n",
      " 21  U21                  0 non-null      float64\n",
      " 22  U22                  0 non-null      float64\n",
      "dtypes: float64(7), object(16)\n",
      "memory usage: 4.9+ MB\n"
     ]
    }
   ],
   "source": [
    "df.info()"
   ]
  },
  {
   "cell_type": "code",
   "execution_count": 11,
   "id": "61dbea00-5a85-4560-bf24-f81ca8f092c8",
   "metadata": {},
   "outputs": [],
   "source": [
    "#droping columns that represent no relevent information\n",
    "df.drop(columns=['JobContext', 'IncomeContext' ,'U17' ,'U18' ,'U19' ,'U20' ,'U21' ,'U22',\n",
    "                 'Timestamp', 'OtherCurrency'], inplace=True)"
   ]
  },
  {
   "cell_type": "code",
   "execution_count": 12,
   "id": "86b8f257-8d52-4a40-8415-78d4b2f200d1",
   "metadata": {},
   "outputs": [
    {
     "data": {
      "text/html": [
       "<div>\n",
       "<style scoped>\n",
       "    .dataframe tbody tr th:only-of-type {\n",
       "        vertical-align: middle;\n",
       "    }\n",
       "\n",
       "    .dataframe tbody tr th {\n",
       "        vertical-align: top;\n",
       "    }\n",
       "\n",
       "    .dataframe thead th {\n",
       "        text-align: right;\n",
       "    }\n",
       "</style>\n",
       "<table border=\"1\" class=\"dataframe\">\n",
       "  <thead>\n",
       "    <tr style=\"text-align: right;\">\n",
       "      <th></th>\n",
       "      <th>Age</th>\n",
       "      <th>Industry</th>\n",
       "      <th>Job</th>\n",
       "      <th>Salary</th>\n",
       "      <th>OvertimeBonus</th>\n",
       "      <th>Currency</th>\n",
       "      <th>Country</th>\n",
       "      <th>USState</th>\n",
       "      <th>City</th>\n",
       "      <th>YerasWorkExperience</th>\n",
       "      <th>FieldExperience</th>\n",
       "      <th>Education</th>\n",
       "      <th>Gender</th>\n",
       "    </tr>\n",
       "  </thead>\n",
       "  <tbody>\n",
       "    <tr>\n",
       "      <th>0</th>\n",
       "      <td>25-34</td>\n",
       "      <td>Education (Higher Education)</td>\n",
       "      <td>Research and Instruction Librarian</td>\n",
       "      <td>55,000</td>\n",
       "      <td>0.0</td>\n",
       "      <td>USD</td>\n",
       "      <td>United States</td>\n",
       "      <td>Massachusetts</td>\n",
       "      <td>Boston</td>\n",
       "      <td>5-7 years</td>\n",
       "      <td>5-7 years</td>\n",
       "      <td>Master's degree</td>\n",
       "      <td>Woman</td>\n",
       "    </tr>\n",
       "    <tr>\n",
       "      <th>1</th>\n",
       "      <td>25-34</td>\n",
       "      <td>Computing or Tech</td>\n",
       "      <td>Change &amp; Internal Communications Manager</td>\n",
       "      <td>54,600</td>\n",
       "      <td>4000.0</td>\n",
       "      <td>GBP</td>\n",
       "      <td>United Kingdom</td>\n",
       "      <td>NaN</td>\n",
       "      <td>Cambridge</td>\n",
       "      <td>8 - 10 years</td>\n",
       "      <td>5-7 years</td>\n",
       "      <td>College degree</td>\n",
       "      <td>Non-binary</td>\n",
       "    </tr>\n",
       "    <tr>\n",
       "      <th>2</th>\n",
       "      <td>25-34</td>\n",
       "      <td>Accounting, Banking &amp; Finance</td>\n",
       "      <td>Marketing Specialist</td>\n",
       "      <td>34,000</td>\n",
       "      <td>NaN</td>\n",
       "      <td>USD</td>\n",
       "      <td>US</td>\n",
       "      <td>Tennessee</td>\n",
       "      <td>Chattanooga</td>\n",
       "      <td>2 - 4 years</td>\n",
       "      <td>2 - 4 years</td>\n",
       "      <td>College degree</td>\n",
       "      <td>Woman</td>\n",
       "    </tr>\n",
       "    <tr>\n",
       "      <th>3</th>\n",
       "      <td>25-34</td>\n",
       "      <td>Nonprofits</td>\n",
       "      <td>Program Manager</td>\n",
       "      <td>62,000</td>\n",
       "      <td>3000.0</td>\n",
       "      <td>USD</td>\n",
       "      <td>USA</td>\n",
       "      <td>Wisconsin</td>\n",
       "      <td>Milwaukee</td>\n",
       "      <td>8 - 10 years</td>\n",
       "      <td>5-7 years</td>\n",
       "      <td>College degree</td>\n",
       "      <td>Woman</td>\n",
       "    </tr>\n",
       "    <tr>\n",
       "      <th>4</th>\n",
       "      <td>25-34</td>\n",
       "      <td>Accounting, Banking &amp; Finance</td>\n",
       "      <td>Accounting Manager</td>\n",
       "      <td>60,000</td>\n",
       "      <td>7000.0</td>\n",
       "      <td>USD</td>\n",
       "      <td>US</td>\n",
       "      <td>South Carolina</td>\n",
       "      <td>Greenville</td>\n",
       "      <td>8 - 10 years</td>\n",
       "      <td>5-7 years</td>\n",
       "      <td>College degree</td>\n",
       "      <td>Woman</td>\n",
       "    </tr>\n",
       "  </tbody>\n",
       "</table>\n",
       "</div>"
      ],
      "text/plain": [
       "     Age                       Industry  \\\n",
       "0  25-34   Education (Higher Education)   \n",
       "1  25-34              Computing or Tech   \n",
       "2  25-34  Accounting, Banking & Finance   \n",
       "3  25-34                     Nonprofits   \n",
       "4  25-34  Accounting, Banking & Finance   \n",
       "\n",
       "                                        Job  Salary  OvertimeBonus Currency  \\\n",
       "0        Research and Instruction Librarian  55,000            0.0      USD   \n",
       "1  Change & Internal Communications Manager  54,600         4000.0      GBP   \n",
       "2                      Marketing Specialist  34,000            NaN      USD   \n",
       "3                           Program Manager  62,000         3000.0      USD   \n",
       "4                        Accounting Manager  60,000         7000.0      USD   \n",
       "\n",
       "          Country         USState         City YerasWorkExperience  \\\n",
       "0   United States   Massachusetts       Boston           5-7 years   \n",
       "1  United Kingdom             NaN    Cambridge        8 - 10 years   \n",
       "2              US       Tennessee  Chattanooga         2 - 4 years   \n",
       "3             USA       Wisconsin    Milwaukee        8 - 10 years   \n",
       "4              US  South Carolina   Greenville        8 - 10 years   \n",
       "\n",
       "  FieldExperience        Education      Gender  \n",
       "0       5-7 years  Master's degree       Woman  \n",
       "1       5-7 years   College degree  Non-binary  \n",
       "2     2 - 4 years   College degree       Woman  \n",
       "3       5-7 years   College degree       Woman  \n",
       "4       5-7 years   College degree       Woman  "
      ]
     },
     "execution_count": 12,
     "metadata": {},
     "output_type": "execute_result"
    }
   ],
   "source": [
    "df.head()"
   ]
  },
  {
   "cell_type": "code",
   "execution_count": 13,
   "id": "af983b19-fa39-4912-90be-108f5496b628",
   "metadata": {},
   "outputs": [
    {
     "data": {
      "text/html": [
       "<div>\n",
       "<style scoped>\n",
       "    .dataframe tbody tr th:only-of-type {\n",
       "        vertical-align: middle;\n",
       "    }\n",
       "\n",
       "    .dataframe tbody tr th {\n",
       "        vertical-align: top;\n",
       "    }\n",
       "\n",
       "    .dataframe thead th {\n",
       "        text-align: right;\n",
       "    }\n",
       "</style>\n",
       "<table border=\"1\" class=\"dataframe\">\n",
       "  <thead>\n",
       "    <tr style=\"text-align: right;\">\n",
       "      <th></th>\n",
       "      <th>Age</th>\n",
       "      <th>Industry</th>\n",
       "      <th>Job</th>\n",
       "      <th>Salary</th>\n",
       "      <th>OvertimeBonus</th>\n",
       "      <th>Currency</th>\n",
       "      <th>Country</th>\n",
       "      <th>USState</th>\n",
       "      <th>City</th>\n",
       "      <th>YerasWorkExperience</th>\n",
       "      <th>FieldExperience</th>\n",
       "      <th>Education</th>\n",
       "      <th>Gender</th>\n",
       "    </tr>\n",
       "  </thead>\n",
       "  <tbody>\n",
       "    <tr>\n",
       "      <th>28168</th>\n",
       "      <td>NaN</td>\n",
       "      <td>NaN</td>\n",
       "      <td>NaN</td>\n",
       "      <td>NaN</td>\n",
       "      <td>NaN</td>\n",
       "      <td>NaN</td>\n",
       "      <td>NaN</td>\n",
       "      <td>NaN</td>\n",
       "      <td>NaN</td>\n",
       "      <td>NaN</td>\n",
       "      <td>NaN</td>\n",
       "      <td>NaN</td>\n",
       "      <td>NaN</td>\n",
       "    </tr>\n",
       "    <tr>\n",
       "      <th>28169</th>\n",
       "      <td>NaN</td>\n",
       "      <td>NaN</td>\n",
       "      <td>NaN</td>\n",
       "      <td>NaN</td>\n",
       "      <td>NaN</td>\n",
       "      <td>NaN</td>\n",
       "      <td>NaN</td>\n",
       "      <td>NaN</td>\n",
       "      <td>NaN</td>\n",
       "      <td>NaN</td>\n",
       "      <td>NaN</td>\n",
       "      <td>NaN</td>\n",
       "      <td>NaN</td>\n",
       "    </tr>\n",
       "    <tr>\n",
       "      <th>28170</th>\n",
       "      <td>NaN</td>\n",
       "      <td>NaN</td>\n",
       "      <td>NaN</td>\n",
       "      <td>NaN</td>\n",
       "      <td>NaN</td>\n",
       "      <td>NaN</td>\n",
       "      <td>NaN</td>\n",
       "      <td>NaN</td>\n",
       "      <td>NaN</td>\n",
       "      <td>NaN</td>\n",
       "      <td>NaN</td>\n",
       "      <td>NaN</td>\n",
       "      <td>NaN</td>\n",
       "    </tr>\n",
       "    <tr>\n",
       "      <th>28171</th>\n",
       "      <td>NaN</td>\n",
       "      <td>NaN</td>\n",
       "      <td>NaN</td>\n",
       "      <td>NaN</td>\n",
       "      <td>NaN</td>\n",
       "      <td>NaN</td>\n",
       "      <td>NaN</td>\n",
       "      <td>NaN</td>\n",
       "      <td>NaN</td>\n",
       "      <td>NaN</td>\n",
       "      <td>NaN</td>\n",
       "      <td>NaN</td>\n",
       "      <td>NaN</td>\n",
       "    </tr>\n",
       "    <tr>\n",
       "      <th>28172</th>\n",
       "      <td>NaN</td>\n",
       "      <td>NaN</td>\n",
       "      <td>NaN</td>\n",
       "      <td>NaN</td>\n",
       "      <td>NaN</td>\n",
       "      <td>NaN</td>\n",
       "      <td>NaN</td>\n",
       "      <td>NaN</td>\n",
       "      <td>NaN</td>\n",
       "      <td>NaN</td>\n",
       "      <td>NaN</td>\n",
       "      <td>NaN</td>\n",
       "      <td>NaN</td>\n",
       "    </tr>\n",
       "    <tr>\n",
       "      <th>28173</th>\n",
       "      <td>NaN</td>\n",
       "      <td>NaN</td>\n",
       "      <td>NaN</td>\n",
       "      <td>NaN</td>\n",
       "      <td>NaN</td>\n",
       "      <td>NaN</td>\n",
       "      <td>NaN</td>\n",
       "      <td>NaN</td>\n",
       "      <td>NaN</td>\n",
       "      <td>NaN</td>\n",
       "      <td>NaN</td>\n",
       "      <td>NaN</td>\n",
       "      <td>NaN</td>\n",
       "    </tr>\n",
       "    <tr>\n",
       "      <th>28174</th>\n",
       "      <td>NaN</td>\n",
       "      <td>NaN</td>\n",
       "      <td>NaN</td>\n",
       "      <td>NaN</td>\n",
       "      <td>NaN</td>\n",
       "      <td>NaN</td>\n",
       "      <td>NaN</td>\n",
       "      <td>NaN</td>\n",
       "      <td>NaN</td>\n",
       "      <td>NaN</td>\n",
       "      <td>NaN</td>\n",
       "      <td>NaN</td>\n",
       "      <td>NaN</td>\n",
       "    </tr>\n",
       "    <tr>\n",
       "      <th>28175</th>\n",
       "      <td>NaN</td>\n",
       "      <td>NaN</td>\n",
       "      <td>NaN</td>\n",
       "      <td>NaN</td>\n",
       "      <td>NaN</td>\n",
       "      <td>NaN</td>\n",
       "      <td>NaN</td>\n",
       "      <td>NaN</td>\n",
       "      <td>NaN</td>\n",
       "      <td>NaN</td>\n",
       "      <td>NaN</td>\n",
       "      <td>NaN</td>\n",
       "      <td>NaN</td>\n",
       "    </tr>\n",
       "    <tr>\n",
       "      <th>28176</th>\n",
       "      <td>NaN</td>\n",
       "      <td>NaN</td>\n",
       "      <td>NaN</td>\n",
       "      <td>NaN</td>\n",
       "      <td>NaN</td>\n",
       "      <td>NaN</td>\n",
       "      <td>NaN</td>\n",
       "      <td>NaN</td>\n",
       "      <td>NaN</td>\n",
       "      <td>NaN</td>\n",
       "      <td>NaN</td>\n",
       "      <td>NaN</td>\n",
       "      <td>NaN</td>\n",
       "    </tr>\n",
       "    <tr>\n",
       "      <th>28177</th>\n",
       "      <td>NaN</td>\n",
       "      <td>NaN</td>\n",
       "      <td>NaN</td>\n",
       "      <td>NaN</td>\n",
       "      <td>NaN</td>\n",
       "      <td>NaN</td>\n",
       "      <td>NaN</td>\n",
       "      <td>NaN</td>\n",
       "      <td>NaN</td>\n",
       "      <td>NaN</td>\n",
       "      <td>NaN</td>\n",
       "      <td>NaN</td>\n",
       "      <td>NaN</td>\n",
       "    </tr>\n",
       "  </tbody>\n",
       "</table>\n",
       "</div>"
      ],
      "text/plain": [
       "       Age Industry  Job Salary  OvertimeBonus Currency Country USState City  \\\n",
       "28168  NaN      NaN  NaN    NaN            NaN      NaN     NaN     NaN  NaN   \n",
       "28169  NaN      NaN  NaN    NaN            NaN      NaN     NaN     NaN  NaN   \n",
       "28170  NaN      NaN  NaN    NaN            NaN      NaN     NaN     NaN  NaN   \n",
       "28171  NaN      NaN  NaN    NaN            NaN      NaN     NaN     NaN  NaN   \n",
       "28172  NaN      NaN  NaN    NaN            NaN      NaN     NaN     NaN  NaN   \n",
       "28173  NaN      NaN  NaN    NaN            NaN      NaN     NaN     NaN  NaN   \n",
       "28174  NaN      NaN  NaN    NaN            NaN      NaN     NaN     NaN  NaN   \n",
       "28175  NaN      NaN  NaN    NaN            NaN      NaN     NaN     NaN  NaN   \n",
       "28176  NaN      NaN  NaN    NaN            NaN      NaN     NaN     NaN  NaN   \n",
       "28177  NaN      NaN  NaN    NaN            NaN      NaN     NaN     NaN  NaN   \n",
       "\n",
       "      YerasWorkExperience FieldExperience Education Gender  \n",
       "28168                 NaN             NaN       NaN    NaN  \n",
       "28169                 NaN             NaN       NaN    NaN  \n",
       "28170                 NaN             NaN       NaN    NaN  \n",
       "28171                 NaN             NaN       NaN    NaN  \n",
       "28172                 NaN             NaN       NaN    NaN  \n",
       "28173                 NaN             NaN       NaN    NaN  \n",
       "28174                 NaN             NaN       NaN    NaN  \n",
       "28175                 NaN             NaN       NaN    NaN  \n",
       "28176                 NaN             NaN       NaN    NaN  \n",
       "28177                 NaN             NaN       NaN    NaN  "
      ]
     },
     "execution_count": 13,
     "metadata": {},
     "output_type": "execute_result"
    }
   ],
   "source": [
    "df.tail(10)"
   ]
  },
  {
   "cell_type": "code",
   "execution_count": 14,
   "id": "64e6c7af-55eb-4041-a50c-c3713e0bbb72",
   "metadata": {},
   "outputs": [],
   "source": [
    "# Setting the float format to display with 2 decimal places\n",
    "pd.options.display.float_format = '{:.2f}'.format\n",
    "#Almog Woldenberg (2018). Pandas convert data type from object to float. [online] Stack Overflow. \n",
    "#Available at: https://stackoverflow.com/questions/48094854/pandas-convert-data-type-from-object-to-float."
   ]
  },
  {
   "cell_type": "code",
   "execution_count": 15,
   "id": "59fe552d-4f59-483b-8415-5d162fa35a88",
   "metadata": {},
   "outputs": [],
   "source": [
    "# removing commas \n",
    "df[\"Salary\"] = df[\"Salary\"].str.replace(',', '', regex=False).astype(float)\n",
    "#Almog Woldenberg (2018). Pandas convert data type from object to float. [online] Stack Overflow. \n",
    "#Available at: https://stackoverflow.com/questions/48094854/pandas-convert-data-type-from-object-to-float."
   ]
  },
  {
   "cell_type": "code",
   "execution_count": 16,
   "id": "4212298f-7da6-4fb1-aff5-4225c8b21954",
   "metadata": {},
   "outputs": [
    {
     "name": "stdout",
     "output_type": "stream",
     "text": [
      "<class 'pandas.core.frame.DataFrame'>\n",
      "RangeIndex: 28178 entries, 0 to 28177\n",
      "Data columns (total 13 columns):\n",
      " #   Column               Non-Null Count  Dtype  \n",
      "---  ------               --------------  -----  \n",
      " 0   Age                  28085 non-null  object \n",
      " 1   Industry             28011 non-null  object \n",
      " 2   Job                  28083 non-null  object \n",
      " 3   Salary               28085 non-null  float64\n",
      " 4   OvertimeBonus        20780 non-null  float64\n",
      " 5   Currency             28085 non-null  object \n",
      " 6   Country              28084 non-null  object \n",
      " 7   USState              23059 non-null  object \n",
      " 8   City                 27994 non-null  object \n",
      " 9   YerasWorkExperience  28085 non-null  object \n",
      " 10  FieldExperience      28085 non-null  object \n",
      " 11  Education            27863 non-null  object \n",
      " 12  Gender               27914 non-null  object \n",
      "dtypes: float64(2), object(11)\n",
      "memory usage: 2.8+ MB\n"
     ]
    }
   ],
   "source": [
    "df.info()"
   ]
  },
  {
   "cell_type": "code",
   "execution_count": 17,
   "id": "2b101595-cb79-4b6e-9a34-f7506a0213a0",
   "metadata": {},
   "outputs": [],
   "source": [
    "df['Salary'] = df['Salary'].fillna(0)"
   ]
  },
  {
   "cell_type": "code",
   "execution_count": 18,
   "id": "4293c90d-aa29-4616-82ab-c1dddde2e399",
   "metadata": {},
   "outputs": [
    {
     "name": "stdout",
     "output_type": "stream",
     "text": [
      "Salary\n"
     ]
    },
    {
     "data": {
      "text/plain": [
       "0    55000.00\n",
       "1    54600.00\n",
       "2    34000.00\n",
       "3    62000.00\n",
       "4    60000.00\n",
       "5    62000.00\n",
       "6    33000.00\n",
       "7    50000.00\n",
       "8   112000.00\n",
       "9    45000.00\n",
       "Name: Salary, dtype: float64"
      ]
     },
     "execution_count": 18,
     "metadata": {},
     "output_type": "execute_result"
    }
   ],
   "source": [
    "print('Salary')\n",
    "df['Salary'].head(10)"
   ]
  },
  {
   "cell_type": "code",
   "execution_count": 19,
   "id": "dba7679d-9546-4a28-866f-8cb6c975da2c",
   "metadata": {},
   "outputs": [
    {
     "name": "stdout",
     "output_type": "stream",
     "text": [
      "OvertimeBonus\n"
     ]
    },
    {
     "data": {
      "text/plain": [
       "0       0.00\n",
       "1    4000.00\n",
       "2        NaN\n",
       "3    3000.00\n",
       "4    7000.00\n",
       "5        NaN\n",
       "6    2000.00\n",
       "7        NaN\n",
       "8   10000.00\n",
       "9       0.00\n",
       "Name: OvertimeBonus, dtype: float64"
      ]
     },
     "execution_count": 19,
     "metadata": {},
     "output_type": "execute_result"
    }
   ],
   "source": [
    "print('OvertimeBonus')\n",
    "df['OvertimeBonus'].head(10)"
   ]
  },
  {
   "cell_type": "code",
   "execution_count": 20,
   "id": "a92e9cf0-4b80-4a0a-bd5e-33159033f99a",
   "metadata": {},
   "outputs": [],
   "source": [
    "#replace missing values in the OvertimeBonus column with 0.\n",
    "df['OvertimeBonus'] = df['OvertimeBonus'].fillna(0)"
   ]
  },
  {
   "cell_type": "code",
   "execution_count": 21,
   "id": "333450d1-1acb-4fb7-ad3a-472cdcb8539c",
   "metadata": {},
   "outputs": [
    {
     "name": "stdout",
     "output_type": "stream",
     "text": [
      "OvertimeBonus\n"
     ]
    },
    {
     "data": {
      "text/plain": [
       "0       0.00\n",
       "1    4000.00\n",
       "2       0.00\n",
       "3    3000.00\n",
       "4    7000.00\n",
       "5       0.00\n",
       "6    2000.00\n",
       "7       0.00\n",
       "8   10000.00\n",
       "9       0.00\n",
       "Name: OvertimeBonus, dtype: float64"
      ]
     },
     "execution_count": 21,
     "metadata": {},
     "output_type": "execute_result"
    }
   ],
   "source": [
    "print('OvertimeBonus')\n",
    "df['OvertimeBonus'].head(10)"
   ]
  },
  {
   "cell_type": "code",
   "execution_count": 22,
   "id": "622b03d8-ee39-46ea-834a-933c4b7f7511",
   "metadata": {},
   "outputs": [
    {
     "name": "stdout",
     "output_type": "stream",
     "text": [
      "Age                      93\n",
      "Industry                167\n",
      "Job                      95\n",
      "Salary                    0\n",
      "OvertimeBonus             0\n",
      "Currency                 93\n",
      "Country                  94\n",
      "USState                5119\n",
      "City                    184\n",
      "YerasWorkExperience      93\n",
      "FieldExperience          93\n",
      "Education               315\n",
      "Gender                  264\n",
      "dtype: int64\n"
     ]
    }
   ],
   "source": [
    "# check if there are any NaN values in dataset\n",
    "print(df.isnull().sum())"
   ]
  },
  {
   "cell_type": "code",
   "execution_count": 23,
   "id": "22f8874e-9bfe-49fd-b65e-afc51cd17418",
   "metadata": {},
   "outputs": [],
   "source": [
    "#droping all raws and columns with Nan values\n",
    "new_df = df.dropna(axis=0)\n",
    "new_df = df.dropna(axis=1)"
   ]
  },
  {
   "cell_type": "code",
   "execution_count": 24,
   "id": "133a27f1-4f04-46e6-88f4-0a7682583b2f",
   "metadata": {},
   "outputs": [],
   "source": [
    "no_mis_df = df.dropna(axis=0)"
   ]
  },
  {
   "cell_type": "code",
   "execution_count": 25,
   "id": "21b26a1f-d266-43ac-94c8-3e647c316ec8",
   "metadata": {},
   "outputs": [],
   "source": [
    "no_mis_df = df.dropna(axis=1)"
   ]
  },
  {
   "cell_type": "code",
   "execution_count": 26,
   "id": "2fdf3b78-91b4-401d-b93a-e9f47eca1c34",
   "metadata": {},
   "outputs": [
    {
     "data": {
      "text/plain": [
       "18960"
      ]
     },
     "execution_count": 26,
     "metadata": {},
     "output_type": "execute_result"
    }
   ],
   "source": [
    "no_mis_df.duplicated().sum()"
   ]
  },
  {
   "cell_type": "code",
   "execution_count": 27,
   "id": "185015fe-bcc1-498f-985d-1af19d4183c1",
   "metadata": {},
   "outputs": [
    {
     "name": "stderr",
     "output_type": "stream",
     "text": [
      "C:\\Users\\Rafał\\AppData\\Local\\Temp\\ipykernel_7108\\3862673961.py:1: SettingWithCopyWarning: \n",
      "A value is trying to be set on a copy of a slice from a DataFrame\n",
      "\n",
      "See the caveats in the documentation: https://pandas.pydata.org/pandas-docs/stable/user_guide/indexing.html#returning-a-view-versus-a-copy\n",
      "  no_mis_df.drop_duplicates(keep = \"first\", inplace = True)\n"
     ]
    }
   ],
   "source": [
    "no_mis_df.drop_duplicates(keep = \"first\", inplace = True) "
   ]
  },
  {
   "cell_type": "code",
   "execution_count": 28,
   "id": "4fd9605c-123c-425d-a6fc-3a3467a27287",
   "metadata": {},
   "outputs": [
    {
     "data": {
      "text/plain": [
       "Age                    22691\n",
       "Industry               22691\n",
       "Job                    22691\n",
       "Salary                 22691\n",
       "OvertimeBonus          22691\n",
       "Currency               22691\n",
       "Country                22691\n",
       "USState                22691\n",
       "City                   22691\n",
       "YerasWorkExperience    22691\n",
       "FieldExperience        22691\n",
       "Education              22691\n",
       "Gender                 22691\n",
       "dtype: int64"
      ]
     },
     "execution_count": 28,
     "metadata": {},
     "output_type": "execute_result"
    }
   ],
   "source": [
    "df=df.dropna()\n",
    "df.count()"
   ]
  },
  {
   "cell_type": "code",
   "execution_count": 29,
   "id": "2cee5362-0d4b-410c-b428-518d8310b370",
   "metadata": {},
   "outputs": [
    {
     "data": {
      "text/plain": [
       "Age                    0\n",
       "Industry               0\n",
       "Job                    0\n",
       "Salary                 0\n",
       "OvertimeBonus          0\n",
       "Currency               0\n",
       "Country                0\n",
       "USState                0\n",
       "City                   0\n",
       "YerasWorkExperience    0\n",
       "FieldExperience        0\n",
       "Education              0\n",
       "Gender                 0\n",
       "dtype: int64"
      ]
     },
     "execution_count": 29,
     "metadata": {},
     "output_type": "execute_result"
    }
   ],
   "source": [
    "df.isnull().sum()"
   ]
  },
  {
   "cell_type": "code",
   "execution_count": 30,
   "id": "d3a2cbb1-d980-455c-a3d0-d083b2a3d392",
   "metadata": {},
   "outputs": [
    {
     "name": "stdout",
     "output_type": "stream",
     "text": [
      "Number of duplicated rows: 138\n"
     ]
    }
   ],
   "source": [
    "#check the number of duplicated values\n",
    "duplicate_count = df.duplicated().sum()  # Correct usage\n",
    "print('Number of duplicated rows:', duplicate_count)"
   ]
  },
  {
   "cell_type": "code",
   "execution_count": 31,
   "id": "33d36077-e0b7-41af-aace-b10e45e7fade",
   "metadata": {},
   "outputs": [
    {
     "data": {
      "text/html": [
       "<div>\n",
       "<style scoped>\n",
       "    .dataframe tbody tr th:only-of-type {\n",
       "        vertical-align: middle;\n",
       "    }\n",
       "\n",
       "    .dataframe tbody tr th {\n",
       "        vertical-align: top;\n",
       "    }\n",
       "\n",
       "    .dataframe thead th {\n",
       "        text-align: right;\n",
       "    }\n",
       "</style>\n",
       "<table border=\"1\" class=\"dataframe\">\n",
       "  <thead>\n",
       "    <tr style=\"text-align: right;\">\n",
       "      <th></th>\n",
       "      <th>Age</th>\n",
       "      <th>Industry</th>\n",
       "      <th>Job</th>\n",
       "      <th>Salary</th>\n",
       "      <th>OvertimeBonus</th>\n",
       "      <th>Currency</th>\n",
       "      <th>Country</th>\n",
       "      <th>USState</th>\n",
       "      <th>City</th>\n",
       "      <th>YerasWorkExperience</th>\n",
       "      <th>FieldExperience</th>\n",
       "      <th>Education</th>\n",
       "      <th>Gender</th>\n",
       "    </tr>\n",
       "  </thead>\n",
       "  <tbody>\n",
       "    <tr>\n",
       "      <th>0</th>\n",
       "      <td>25-34</td>\n",
       "      <td>Education (Higher Education)</td>\n",
       "      <td>Research and Instruction Librarian</td>\n",
       "      <td>55000.00</td>\n",
       "      <td>0.00</td>\n",
       "      <td>USD</td>\n",
       "      <td>United States</td>\n",
       "      <td>Massachusetts</td>\n",
       "      <td>Boston</td>\n",
       "      <td>5-7 years</td>\n",
       "      <td>5-7 years</td>\n",
       "      <td>Master's degree</td>\n",
       "      <td>Woman</td>\n",
       "    </tr>\n",
       "    <tr>\n",
       "      <th>2</th>\n",
       "      <td>25-34</td>\n",
       "      <td>Accounting, Banking &amp; Finance</td>\n",
       "      <td>Marketing Specialist</td>\n",
       "      <td>34000.00</td>\n",
       "      <td>0.00</td>\n",
       "      <td>USD</td>\n",
       "      <td>US</td>\n",
       "      <td>Tennessee</td>\n",
       "      <td>Chattanooga</td>\n",
       "      <td>2 - 4 years</td>\n",
       "      <td>2 - 4 years</td>\n",
       "      <td>College degree</td>\n",
       "      <td>Woman</td>\n",
       "    </tr>\n",
       "    <tr>\n",
       "      <th>3</th>\n",
       "      <td>25-34</td>\n",
       "      <td>Nonprofits</td>\n",
       "      <td>Program Manager</td>\n",
       "      <td>62000.00</td>\n",
       "      <td>3000.00</td>\n",
       "      <td>USD</td>\n",
       "      <td>USA</td>\n",
       "      <td>Wisconsin</td>\n",
       "      <td>Milwaukee</td>\n",
       "      <td>8 - 10 years</td>\n",
       "      <td>5-7 years</td>\n",
       "      <td>College degree</td>\n",
       "      <td>Woman</td>\n",
       "    </tr>\n",
       "    <tr>\n",
       "      <th>4</th>\n",
       "      <td>25-34</td>\n",
       "      <td>Accounting, Banking &amp; Finance</td>\n",
       "      <td>Accounting Manager</td>\n",
       "      <td>60000.00</td>\n",
       "      <td>7000.00</td>\n",
       "      <td>USD</td>\n",
       "      <td>US</td>\n",
       "      <td>South Carolina</td>\n",
       "      <td>Greenville</td>\n",
       "      <td>8 - 10 years</td>\n",
       "      <td>5-7 years</td>\n",
       "      <td>College degree</td>\n",
       "      <td>Woman</td>\n",
       "    </tr>\n",
       "    <tr>\n",
       "      <th>5</th>\n",
       "      <td>25-34</td>\n",
       "      <td>Education (Higher Education)</td>\n",
       "      <td>Scholarly Publishing Librarian</td>\n",
       "      <td>62000.00</td>\n",
       "      <td>0.00</td>\n",
       "      <td>USD</td>\n",
       "      <td>USA</td>\n",
       "      <td>New Hampshire</td>\n",
       "      <td>Hanover</td>\n",
       "      <td>8 - 10 years</td>\n",
       "      <td>2 - 4 years</td>\n",
       "      <td>Master's degree</td>\n",
       "      <td>Man</td>\n",
       "    </tr>\n",
       "  </tbody>\n",
       "</table>\n",
       "</div>"
      ],
      "text/plain": [
       "     Age                       Industry                                 Job  \\\n",
       "0  25-34   Education (Higher Education)  Research and Instruction Librarian   \n",
       "2  25-34  Accounting, Banking & Finance                Marketing Specialist   \n",
       "3  25-34                     Nonprofits                     Program Manager   \n",
       "4  25-34  Accounting, Banking & Finance                  Accounting Manager   \n",
       "5  25-34   Education (Higher Education)      Scholarly Publishing Librarian   \n",
       "\n",
       "    Salary  OvertimeBonus Currency        Country         USState  \\\n",
       "0 55000.00           0.00      USD  United States   Massachusetts   \n",
       "2 34000.00           0.00      USD             US       Tennessee   \n",
       "3 62000.00        3000.00      USD            USA       Wisconsin   \n",
       "4 60000.00        7000.00      USD             US  South Carolina   \n",
       "5 62000.00           0.00      USD            USA   New Hampshire   \n",
       "\n",
       "          City YerasWorkExperience FieldExperience        Education Gender  \n",
       "0       Boston           5-7 years       5-7 years  Master's degree  Woman  \n",
       "2  Chattanooga         2 - 4 years     2 - 4 years   College degree  Woman  \n",
       "3    Milwaukee        8 - 10 years       5-7 years   College degree  Woman  \n",
       "4   Greenville        8 - 10 years       5-7 years   College degree  Woman  \n",
       "5      Hanover        8 - 10 years     2 - 4 years  Master's degree    Man  "
      ]
     },
     "execution_count": 31,
     "metadata": {},
     "output_type": "execute_result"
    }
   ],
   "source": [
    "df = df.drop_duplicates()\n",
    "df.head(5)"
   ]
  },
  {
   "cell_type": "code",
   "execution_count": 32,
   "id": "24cb38b0-31de-4c3d-acd4-69ca3d88aa11",
   "metadata": {},
   "outputs": [],
   "source": [
    "average_salary = df.groupby('Currency')['Salary'].mean().reset_index()"
   ]
  },
  {
   "cell_type": "code",
   "execution_count": 33,
   "id": "2a3a4bc7-3721-41f9-bf56-fb6f7b4b0bd3",
   "metadata": {},
   "outputs": [
    {
     "name": "stdout",
     "output_type": "stream",
     "text": [
      "  Currency     Salary\n",
      "0  AUD/NZD   30000.00\n",
      "1      CAD  122922.40\n",
      "2      EUR  100150.00\n",
      "3      GBP   49000.00\n",
      "4      JPY 3600000.00\n",
      "5    Other   74792.92\n",
      "6      SEK   28000.00\n",
      "7      USD   92038.96\n"
     ]
    }
   ],
   "source": [
    "print(average_salary)"
   ]
  },
  {
   "cell_type": "code",
   "execution_count": 34,
   "id": "ae59c0f2-e262-46cb-b43a-7fad4ebaf57e",
   "metadata": {},
   "outputs": [],
   "source": [
    "data = {\n",
    "    \"Currency\": [\n",
    "        \"AUD/NZD\", \n",
    "        \"CAD\", \n",
    "        \"EUR\", \n",
    "        \"GBP\",\n",
    "        \"JPY\", \n",
    "        \"Other\", \n",
    "        \"SEK\", \n",
    "        \"USD\"\n",
    "    ],\n",
    "    'Count': [\n",
    "        30000.00, \n",
    "        122922.40, \n",
    "        100150.00, \n",
    "        49000.00, \n",
    "        3600000.00,\n",
    "        74792.92,\n",
    "        28000.00,\n",
    "        92038.96\n",
    "        \n",
    "        \n",
    "    ]\n",
    "}"
   ]
  },
  {
   "cell_type": "code",
   "execution_count": 35,
   "id": "28d4c405-7087-4f3b-9d45-b83a10392cfa",
   "metadata": {},
   "outputs": [],
   "source": [
    "#creating currency dataset\n",
    "df_Currency = pd.DataFrame(data)"
   ]
  },
  {
   "cell_type": "code",
   "execution_count": 36,
   "id": "d1790188-af73-479a-a861-92d7c9e07658",
   "metadata": {},
   "outputs": [],
   "source": [
    "#defining currency exchange rates\n",
    "exchange_rates = {\n",
    "        \"AUD/NZD\": 0.75, \n",
    "        \"CAD\": 0.78,\n",
    "        \"EUR\":1.1,\n",
    "        \"GBP\":1.3,\n",
    "        \"JPY\":0.0075,\n",
    "        \"Other\":1.0,\n",
    "        \"SEK\":0.1,\n",
    "        \"USD\":1.0\n",
    "}"
   ]
  },
  {
   "cell_type": "code",
   "execution_count": 37,
   "id": "fd655d58-9662-41ed-8521-c889dbe21bc7",
   "metadata": {},
   "outputs": [],
   "source": [
    "#converting all currencies to USD\n",
    "def convert_to_usd(row):\n",
    "    currency = row['Currency']\n",
    "    amount = row['Salary']\n",
    "    return amount * exchange_rates[currency]\n",
    "\n",
    "#NARAYAN (2021). How to convert currency in a database using pandas. [online] Stack Overflow. \n",
    "#Available at: https://stackoverflow.com/questions/68103246/how-to-convert-currency-in-a-database-using-pandas?newreg=7c3b944f0db149fb9953d6186c190978."
   ]
  },
  {
   "cell_type": "code",
   "execution_count": 38,
   "id": "ef0d72d0-214b-4cbd-b547-5634367ceb21",
   "metadata": {},
   "outputs": [],
   "source": [
    "df['Salary_in_USD'] = df.apply(convert_to_usd, axis=1)"
   ]
  },
  {
   "cell_type": "code",
   "execution_count": 39,
   "id": "f87c432e-c09d-4686-8ac6-c66b2893aaf9",
   "metadata": {},
   "outputs": [
    {
     "data": {
      "text/plain": [
       "count     22553.00\n",
       "mean      92185.35\n",
       "std       82619.85\n",
       "min           0.00\n",
       "25%       56000.00\n",
       "50%       78000.00\n",
       "75%      112000.00\n",
       "max     5000044.00\n",
       "Name: Salary, dtype: float64"
      ]
     },
     "execution_count": 39,
     "metadata": {},
     "output_type": "execute_result"
    }
   ],
   "source": [
    "df['Salary'].describe()"
   ]
  },
  {
   "cell_type": "code",
   "execution_count": 40,
   "id": "b615b618-12e7-4c19-ad58-10cbd2ab60d7",
   "metadata": {},
   "outputs": [
    {
     "name": "stderr",
     "output_type": "stream",
     "text": [
      "C:\\ProgramData\\anaconda3\\Lib\\site-packages\\pandas\\core\\arraylike.py:399: RuntimeWarning: divide by zero encountered in log\n",
      "  result = getattr(ufunc, method)(*inputs, **kwargs)\n"
     ]
    },
    {
     "data": {
      "text/plain": [
       "<seaborn.axisgrid.FacetGrid at 0x16914c731a0>"
      ]
     },
     "execution_count": 40,
     "metadata": {},
     "output_type": "execute_result"
    },
    {
     "data": {
      "image/png": "[encoded data removed]",
      "text/plain": [
       "<Figure size 500x500 with 1 Axes>"
      ]
     },
     "metadata": {},
     "output_type": "display_data"
    }
   ],
   "source": [
    "##ploting salary distribution\n",
    "sns.displot(np.log(df.Salary))"
   ]
  },
  {
   "cell_type": "code",
   "execution_count": 41,
   "id": "53fadd84-b891-44d4-b367-444fe251e533",
   "metadata": {},
   "outputs": [
    {
     "data": {
      "text/plain": [
       "<Axes: xlabel='Salary'>"
      ]
     },
     "execution_count": 41,
     "metadata": {},
     "output_type": "execute_result"
    },
    {
     "data": {
      "image/png": "[encoded data removed]",
      "text/plain": [
       "<Figure size 640x480 with 1 Axes>"
      ]
     },
     "metadata": {},
     "output_type": "display_data"
    }
   ],
   "source": [
    "sns.boxplot(data=no_mis_df, x=\"Salary\")"
   ]
  },
  {
   "cell_type": "code",
   "execution_count": 42,
   "id": "8f4eceec-cea1-4f31-8b49-691ee81727d4",
   "metadata": {},
   "outputs": [],
   "source": [
    "import numpy as np\n",
    "\n",
    "Q1 = no_mis_df[\"Salary\"].quantile(0.25)\n",
    "Q3 = no_mis_df[\"Salary\"].quantile(0.75)\n",
    "\n",
    "IQR = Q3 - Q1\n",
    "\n",
    "lower = Q1-1.5*IQR\n",
    "upper = Q3 + 1.5*IQR\n",
    "\n",
    "\n",
    "# Create arrays of Boolean values indicating the outlier rows\n",
    "\n",
    "upper_array = np.where(no_mis_df[\"Salary\"]>=upper)[0]\n",
    "lower_array = np.where(no_mis_df[\"Salary\"]<=lower)[0]\n"
   ]
  },
  {
   "cell_type": "code",
   "execution_count": 43,
   "id": "d7552cdc-8bca-41f3-9575-5bfc1de7cc5c",
   "metadata": {},
   "outputs": [],
   "source": [
    "lower = Q1-1.5*IQR\n",
    "upper = Q3 + 1.5*IQR\n",
    "\n",
    "no_mis_df[\"Salary\"] = np.where(\n",
    "          no_mis_df[\"Salary\"] > upper, \n",
    "          upper, \n",
    "          np.where(\n",
    "              no_mis_df[\"Salary\"] < lower, \n",
    "              lower, \n",
    "              no_mis_df[\"Salary\"])\n",
    "          )\n"
   ]
  },
  {
   "cell_type": "code",
   "execution_count": 44,
   "id": "6bd4f78c-2f9b-4853-94eb-4e8bc5f3fdc8",
   "metadata": {},
   "outputs": [
    {
     "data": {
      "text/plain": [
       "<Axes: xlabel='Salary'>"
      ]
     },
     "execution_count": 44,
     "metadata": {},
     "output_type": "execute_result"
    },
    {
     "data": {
      "image/png": "[encoded data removed]",
      "text/plain": [
       "<Figure size 640x480 with 1 Axes>"
      ]
     },
     "metadata": {},
     "output_type": "display_data"
    }
   ],
   "source": [
    "sns.boxplot(data=no_mis_df, x=\"Salary\")"
   ]
  },
  {
   "cell_type": "code",
   "execution_count": 45,
   "id": "f51af19b-2595-4f11-96a3-9224953937c9",
   "metadata": {},
   "outputs": [
    {
     "name": "stderr",
     "output_type": "stream",
     "text": [
      "C:\\ProgramData\\anaconda3\\Lib\\site-packages\\pandas\\core\\arraylike.py:399: RuntimeWarning: divide by zero encountered in log\n",
      "  result = getattr(ufunc, method)(*inputs, **kwargs)\n"
     ]
    },
    {
     "data": {
      "text/plain": [
       "<seaborn.axisgrid.FacetGrid at 0x16915578c80>"
      ]
     },
     "execution_count": 45,
     "metadata": {},
     "output_type": "execute_result"
    },
    {
     "data": {
      "image/png": "[encoded data removed]",
      "text/plain": [
       "<Figure size 500x500 with 1 Axes>"
      ]
     },
     "metadata": {},
     "output_type": "display_data"
    }
   ],
   "source": [
    "sns.displot(np.log(df.OvertimeBonus))"
   ]
  },
  {
   "cell_type": "code",
   "execution_count": 46,
   "id": "2dd1bb9b-f9dd-48b8-8eab-4cc0abb73f12",
   "metadata": {},
   "outputs": [
    {
     "data": {
      "text/plain": [
       "<Axes: xlabel='OvertimeBonus'>"
      ]
     },
     "execution_count": 46,
     "metadata": {},
     "output_type": "execute_result"
    },
    {
     "data": {
      "image/png": "[encoded data removed]",
      "text/plain": [
       "<Figure size 640x480 with 1 Axes>"
      ]
     },
     "metadata": {},
     "output_type": "display_data"
    }
   ],
   "source": [
    "sns.boxplot(data=no_mis_df, x=\"OvertimeBonus\")"
   ]
  },
  {
   "cell_type": "code",
   "execution_count": 47,
   "id": "0b893287-56b2-457d-8dae-80d6649de8e3",
   "metadata": {},
   "outputs": [],
   "source": [
    "import numpy as np\n",
    "\n",
    "Q1 = no_mis_df[\"OvertimeBonus\"].quantile(0.25)\n",
    "Q3 = no_mis_df[\"OvertimeBonus\"].quantile(0.75)\n",
    "\n",
    "IQR = Q3 - Q1\n",
    "\n",
    "lower = Q1-1.5*IQR\n",
    "upper = Q3 + 1.5*IQR\n",
    "\n",
    "\n",
    "# Create arrays of Boolean values indicating the outlier rows\n",
    "\n",
    "upper_array = np.where(no_mis_df[\"OvertimeBonus\"]>=upper)[0]\n",
    "lower_array = np.where(no_mis_df[\"OvertimeBonus\"]<=lower)[0]\n"
   ]
  },
  {
   "cell_type": "code",
   "execution_count": 48,
   "id": "08a4aa26-a1f2-4625-8a0f-133521a32ca2",
   "metadata": {},
   "outputs": [],
   "source": [
    "# Removing the outliers\n",
    "\n",
    "lower = Q1-1.5*IQR\n",
    "upper = Q3 + 1.5*IQR\n",
    "\n",
    "no_mis_df[\"OvertimeBonus\"] = np.where(\n",
    "          no_mis_df[\"OvertimeBonus\"] > upper, \n",
    "          upper, \n",
    "          np.where(\n",
    "              no_mis_df[\"OvertimeBonus\"] < lower, \n",
    "              lower, \n",
    "              no_mis_df[\"OvertimeBonus\"])\n",
    "          )\n"
   ]
  },
  {
   "cell_type": "code",
   "execution_count": 49,
   "id": "6e07c376-b5c9-4263-872a-d672f8651357",
   "metadata": {},
   "outputs": [
    {
     "data": {
      "text/plain": [
       "<Axes: xlabel='OvertimeBonus'>"
      ]
     },
     "execution_count": 49,
     "metadata": {},
     "output_type": "execute_result"
    },
    {
     "data": {
      "image/png": "[encoded data removed]",
      "text/plain": [
       "<Figure size 640x480 with 1 Axes>"
      ]
     },
     "metadata": {},
     "output_type": "display_data"
    }
   ],
   "source": [
    "sns.boxplot(data=no_mis_df, x=\"OvertimeBonus\")"
   ]
  },
  {
   "cell_type": "code",
   "execution_count": 50,
   "id": "69ba8fba-43d7-45f2-8c13-3d87b0647096",
   "metadata": {},
   "outputs": [
    {
     "name": "stdout",
     "output_type": "stream",
     "text": [
      "<class 'pandas.core.frame.DataFrame'>\n",
      "Index: 9218 entries, 0 to 28080\n",
      "Data columns (total 2 columns):\n",
      " #   Column         Non-Null Count  Dtype  \n",
      "---  ------         --------------  -----  \n",
      " 0   Salary         9218 non-null   float64\n",
      " 1   OvertimeBonus  9218 non-null   float64\n",
      "dtypes: float64(2)\n",
      "memory usage: 216.0 KB\n"
     ]
    }
   ],
   "source": [
    "no_mis_df.info()"
   ]
  },
  {
   "cell_type": "code",
   "execution_count": 51,
   "id": "89e62971-d755-49ed-87f4-907312ecfcba",
   "metadata": {},
   "outputs": [
    {
     "data": {
      "text/plain": [
       "Gender\n",
       "Woman                            17567\n",
       "Man                               4170\n",
       "Non-binary                         589\n",
       "Other or prefer not to answer      226\n",
       "Prefer not to answer                 1\n",
       "Name: count, dtype: int64"
      ]
     },
     "execution_count": 51,
     "metadata": {},
     "output_type": "execute_result"
    }
   ],
   "source": [
    "df.Gender.value_counts()\n"
   ]
  },
  {
   "cell_type": "code",
   "execution_count": 52,
   "id": "0e489ba8-b5c0-4f2f-9f38-f95efbdb9616",
   "metadata": {},
   "outputs": [],
   "source": [
    "data = {\n",
    "    'Gender': [\n",
    "        'Woman', \n",
    "        'Man', \n",
    "        'Non-binary', \n",
    "        'Other or prefer not to answer', \n",
    "        'Prefer not to answer'\n",
    "    ],\n",
    "    'Count': [\n",
    "        17567, \n",
    "        4170, \n",
    "        589, \n",
    "        226, \n",
    "        1\n",
    "    ]\n",
    "}"
   ]
  },
  {
   "cell_type": "code",
   "execution_count": 53,
   "id": "4d32d7d7-57c3-4aae-8c37-1f0bef979e3b",
   "metadata": {},
   "outputs": [],
   "source": [
    "df_gender = pd.DataFrame(data)"
   ]
  },
  {
   "cell_type": "code",
   "execution_count": 54,
   "id": "fe07d219-0be1-46f1-a219-aafd05a5ee70",
   "metadata": {},
   "outputs": [],
   "source": [
    "df['Gender'] = df['Gender'].replace({\"Other or prefer not to answer\": \"Other\", \"Prefer not to answer\": \"NoAnswer\"})"
   ]
  },
  {
   "cell_type": "code",
   "execution_count": 55,
   "id": "f81a4b6d-fe7e-43bc-b59c-a7cf3d1b5911",
   "metadata": {},
   "outputs": [
    {
     "name": "stdout",
     "output_type": "stream",
     "text": [
      "                          Gender  Count\n",
      "0                          Woman  17567\n",
      "1                            Man   4170\n",
      "2                     Non-binary    589\n",
      "3  Other or prefer not to answer    226\n",
      "4           Prefer not to answer      1\n"
     ]
    }
   ],
   "source": [
    "print(df_gender)"
   ]
  },
  {
   "cell_type": "code",
   "execution_count": 56,
   "id": "514a9ca3-8514-451b-b874-9ee95de6b16b",
   "metadata": {},
   "outputs": [],
   "source": [
    "total_count = df_gender['Count'].sum()"
   ]
  },
  {
   "cell_type": "code",
   "execution_count": 57,
   "id": "ad30d922-02b3-44c1-a902-414830bf3da8",
   "metadata": {},
   "outputs": [],
   "source": [
    "df_gender['Percentage'] = (df_gender['Count'] / total_count) * 100"
   ]
  },
  {
   "cell_type": "code",
   "execution_count": 58,
   "id": "4dccacd0-0997-40aa-bd2a-9ce046b65b80",
   "metadata": {},
   "outputs": [
    {
     "name": "stdout",
     "output_type": "stream",
     "text": [
      "                          Gender  Count  Percentage\n",
      "0                          Woman  17567       77.89\n",
      "1                            Man   4170       18.49\n",
      "2                     Non-binary    589        2.61\n",
      "3  Other or prefer not to answer    226        1.00\n",
      "4           Prefer not to answer      1        0.00\n"
     ]
    }
   ],
   "source": [
    "print(df_gender)"
   ]
  },
  {
   "cell_type": "code",
   "execution_count": 59,
   "id": "a90aeea1-3898-4850-b8ea-121e6b495768",
   "metadata": {},
   "outputs": [
    {
     "data": {
      "text/plain": [
       "<seaborn.axisgrid.FacetGrid at 0x16917097020>"
      ]
     },
     "execution_count": 59,
     "metadata": {},
     "output_type": "execute_result"
    },
    {
     "data": {
      "image/png": "[encoded data removed]",
      "text/plain": [
       "<Figure size 500x500 with 1 Axes>"
      ]
     },
     "metadata": {},
     "output_type": "display_data"
    }
   ],
   "source": [
    "sns.displot(df.Gender)"
   ]
  },
  {
   "cell_type": "code",
   "execution_count": 60,
   "id": "d2a1de1b-3ef5-4379-8fb8-0909bd84d111",
   "metadata": {},
   "outputs": [],
   "source": [
    "# calculating avarage salary by gender\n",
    "average_salary = df.groupby('Gender')['Salary'].mean().reset_index()\n",
    "\n",
    "#Stack Overflow. (n.d.). python - pandas: return average of multiple columns. [online]\n",
    "#Available at: https://stackoverflow.com/questions/49560809/pandas-return-average-of-multiple-columns."
   ]
  },
  {
   "cell_type": "code",
   "execution_count": 61,
   "id": "642eaed4-9d78-413a-b29c-4f739ed6bb44",
   "metadata": {},
   "outputs": [
    {
     "name": "stdout",
     "output_type": "stream",
     "text": [
      "       Gender    Salary\n",
      "0         Man 113928.79\n",
      "1    NoAnswer  88000.00\n",
      "2  Non-binary  89784.15\n",
      "3       Other  94767.00\n",
      "4       Woman  87071.49\n"
     ]
    }
   ],
   "source": [
    "print(average_salary)"
   ]
  },
  {
   "cell_type": "code",
   "execution_count": 62,
   "id": "d4b94dd9-bac2-4dd8-bf10-01fc6b9658ce",
   "metadata": {},
   "outputs": [],
   "source": [
    "data = {\n",
    "    'Gender': [\n",
    "        'Man', \n",
    "        'NoAnswer', \n",
    "        'Non-binary', \n",
    "        'Other', \n",
    "        'Woman'\n",
    "    ],\n",
    "    'Count': [\n",
    "        113930.77, \n",
    "        88000.00, \n",
    "        83717.94, \n",
    "        94767.00, \n",
    "        87064.58\n",
    "    ]\n",
    "}"
   ]
  },
  {
   "cell_type": "code",
   "execution_count": 63,
   "id": "6a285e95-e5b8-4dc2-befd-7c59b5c5f169",
   "metadata": {},
   "outputs": [
    {
     "data": {
      "text/plain": [
       "Text(0.5, 1.0, 'Average Salary by Gender')"
      ]
     },
     "execution_count": 63,
     "metadata": {},
     "output_type": "execute_result"
    },
    {
     "data": {
      "image/png": "[encoded data removed]",
      "text/plain": [
       "<Figure size 640x480 with 1 Axes>"
      ]
     },
     "metadata": {},
     "output_type": "display_data"
    }
   ],
   "source": [
    "sns.barplot(x='Salary', y='Gender', data=df, color=\"r\")\n",
    "plt.xlabel('Average Salary')\n",
    "plt.ylabel('Gender')\n",
    "plt.title('Average Salary by Gender')"
   ]
  },
  {
   "cell_type": "code",
   "execution_count": 64,
   "id": "9c9de282-d3b5-48be-bc05-9e958ba439b9",
   "metadata": {},
   "outputs": [],
   "source": [
    "data = {\n",
    "    'Education': [\n",
    "        'College', \n",
    "        'Mastere', \n",
    "        'Some college', \n",
    "        'Professionalr', \n",
    "        'PhD',\n",
    "        'High School'\n",
    "    ],\n",
    "    'Count': [\n",
    "        87101.52, \n",
    "        85414.23, \n",
    "        92925.46, \n",
    "        112515.54, \n",
    "        141359.05,\n",
    "        77820.69\n",
    "    ]\n",
    "}"
   ]
  },
  {
   "cell_type": "code",
   "execution_count": 65,
   "id": "c88b0dca-9f30-48b9-abfb-8da9caa3de39",
   "metadata": {},
   "outputs": [],
   "source": [
    "df_Education = pd.DataFrame(data)"
   ]
  },
  {
   "cell_type": "code",
   "execution_count": 66,
   "id": "e3bbc430-bc46-4a65-ac80-ecf20a6c3106",
   "metadata": {},
   "outputs": [
    {
     "data": {
      "text/plain": [
       "Education\n",
       "College degree                        11084\n",
       "Master's degree                        7280\n",
       "Some college                           1604\n",
       "Professional degree (MD, JD, etc.)     1111\n",
       "PhD                                    1083\n",
       "High School                             391\n",
       "Name: count, dtype: int64"
      ]
     },
     "execution_count": 66,
     "metadata": {},
     "output_type": "execute_result"
    }
   ],
   "source": [
    "df.Education.value_counts()"
   ]
  },
  {
   "cell_type": "code",
   "execution_count": 67,
   "id": "754997c5-122c-4a19-83b3-90374f842646",
   "metadata": {},
   "outputs": [],
   "source": [
    "df['Education'] = df['Education'].replace({\"College degree\": \"College\", \"Master's degree\": \"Master\",\n",
    "                                           \"Professional degree (MD, JD, etc.)\": \"Professional\"})"
   ]
  },
  {
   "cell_type": "code",
   "execution_count": 68,
   "id": "35242500-0418-4670-a8a2-a562110e8a36",
   "metadata": {},
   "outputs": [
    {
     "data": {
      "text/plain": [
       "Education\n",
       "College         11084\n",
       "Master           7280\n",
       "Some college     1604\n",
       "Professional     1111\n",
       "PhD              1083\n",
       "High School       391\n",
       "Name: count, dtype: int64"
      ]
     },
     "execution_count": 68,
     "metadata": {},
     "output_type": "execute_result"
    }
   ],
   "source": [
    "df.Education.value_counts()"
   ]
  },
  {
   "cell_type": "code",
   "execution_count": 69,
   "id": "67ddd0f9-4756-4ccd-82a0-d254a2698068",
   "metadata": {},
   "outputs": [],
   "source": [
    "total_count = df_Education['Count'].sum()"
   ]
  },
  {
   "cell_type": "code",
   "execution_count": 87,
   "id": "2b8bd2ba-bc88-42d0-8933-a32a82a57f08",
   "metadata": {},
   "outputs": [],
   "source": [
    "df_Education['Percentage'] = (df_Education['Count'] / total_count) * 100"
   ]
  },
  {
   "cell_type": "code",
   "execution_count": 88,
   "id": "a87ee266-01b7-4a81-b050-ea398bf0bb5d",
   "metadata": {},
   "outputs": [
    {
     "name": "stdout",
     "output_type": "stream",
     "text": [
      "       Education     Count  Percentage\n",
      "0        College  87101.52       14.59\n",
      "1        Mastere  85414.23       14.30\n",
      "2   Some college  92925.46       15.56\n",
      "3  Professionalr 112515.54       18.84\n",
      "4            PhD 141359.05       23.67\n",
      "5    High School  77820.69       13.03\n"
     ]
    }
   ],
   "source": [
    "print(df_Education)"
   ]
  },
  {
   "cell_type": "code",
   "execution_count": 72,
   "id": "84f11f89-8fb6-4e40-b7bb-31b7d383f8e9",
   "metadata": {},
   "outputs": [
    {
     "data": {
      "text/plain": [
       "<seaborn.axisgrid.FacetGrid at 0x169172c92e0>"
      ]
     },
     "execution_count": 72,
     "metadata": {},
     "output_type": "execute_result"
    },
    {
     "data": {
      "image/png": "[encoded data removed]",
      "text/plain": [
       "<Figure size 500x500 with 1 Axes>"
      ]
     },
     "metadata": {},
     "output_type": "display_data"
    }
   ],
   "source": [
    "sns.displot(df.Education)"
   ]
  },
  {
   "cell_type": "code",
   "execution_count": 73,
   "id": "1535470c-6f86-432d-87d4-a2cfe287687b",
   "metadata": {},
   "outputs": [],
   "source": [
    "total_count = df_Education['Count'].sum()"
   ]
  },
  {
   "cell_type": "code",
   "execution_count": 74,
   "id": "2a22e25c-d80e-4d1a-8097-f2394cff1f67",
   "metadata": {},
   "outputs": [],
   "source": [
    "average_salary = df.groupby('Education')['Salary'].mean().reset_index()"
   ]
  },
  {
   "cell_type": "code",
   "execution_count": 75,
   "id": "274c8962-0f9b-4b27-a9ec-a35456a74c77",
   "metadata": {},
   "outputs": [
    {
     "name": "stdout",
     "output_type": "stream",
     "text": [
      "      Education    Salary\n",
      "0       College  87101.52\n",
      "1   High School  85414.23\n",
      "2        Master  92925.46\n",
      "3           PhD 112515.54\n",
      "4  Professional 141359.05\n",
      "5  Some college  77820.69\n"
     ]
    }
   ],
   "source": [
    "print(average_salary)"
   ]
  },
  {
   "cell_type": "code",
   "execution_count": 76,
   "id": "f0aa0514-d2d2-415b-a075-64fde9e694a1",
   "metadata": {},
   "outputs": [
    {
     "data": {
      "text/plain": [
       "Text(0.5, 1.0, 'Average Salary by Education Level')"
      ]
     },
     "execution_count": 76,
     "metadata": {},
     "output_type": "execute_result"
    },
    {
     "data": {
      "image/png": "[encoded data removed]",
      "text/plain": [
       "<Figure size 640x480 with 1 Axes>"
      ]
     },
     "metadata": {},
     "output_type": "display_data"
    }
   ],
   "source": [
    "sns.barplot(x='Salary', y='Education', data=df, color=\"r\")\n",
    "plt.xlabel('Average Salary')\n",
    "plt.ylabel('Education Level')\n",
    "plt.title('Average Salary by Education Level')"
   ]
  },
  {
   "cell_type": "code",
   "execution_count": 77,
   "id": "f7f70676-4ec9-486f-b1bf-14233cb99e04",
   "metadata": {},
   "outputs": [],
   "source": [
    "df_Industry = pd.DataFrame(data)"
   ]
  },
  {
   "cell_type": "code",
   "execution_count": 78,
   "id": "eb745fa7-7a43-421e-b595-3659536ccc7a",
   "metadata": {},
   "outputs": [
    {
     "data": {
      "text/plain": [
       "Industry\n",
       "Computing or Tech                                3646\n",
       "Nonprofits                                       2082\n",
       "Education (Higher Education)                     2021\n",
       "Health care                                      1593\n",
       "Accounting, Banking & Finance                    1434\n",
       "                                                 ... \n",
       "Food processing                                     1\n",
       "Architectural/Land Planning/Civil Engineering       1\n",
       "Gaming (Gambling)                                   1\n",
       "Manufacturing : corporate admin support             1\n",
       "Social networks                                     1\n",
       "Name: count, Length: 1025, dtype: int64"
      ]
     },
     "execution_count": 78,
     "metadata": {},
     "output_type": "execute_result"
    }
   ],
   "source": [
    "df.Industry.value_counts()"
   ]
  },
  {
   "cell_type": "code",
   "execution_count": 79,
   "id": "63e6c570-b06c-42e6-b6b7-0cddfc58fd4c",
   "metadata": {},
   "outputs": [],
   "source": [
    "total_count = df_Industry['Count'].sum()"
   ]
  },
  {
   "cell_type": "code",
   "execution_count": 80,
   "id": "6f9ed3d8-77df-495d-8e0c-a9713d1cb110",
   "metadata": {},
   "outputs": [],
   "source": [
    "average_salary = df.groupby('Industry')['Salary'].mean().reset_index()"
   ]
  },
  {
   "cell_type": "code",
   "execution_count": 81,
   "id": "cb4c9985-7f9d-4d7e-a20e-de9e86eb4c8d",
   "metadata": {},
   "outputs": [
    {
     "name": "stdout",
     "output_type": "stream",
     "text": [
      "                                Industry    Salary\n",
      "0                                  Buyer  76650.00\n",
      "1                    Veterinary medicine 155000.00\n",
      "2     \"Government Relations\" (Lobbying)   65000.00\n",
      "3                        Academia - STEM  32000.00\n",
      "4                    Academia / Research  68500.00\n",
      "...                                  ...       ...\n",
      "1020                     technology/SaaS  87500.00\n",
      "1021                   trade association 195000.00\n",
      "1022        trade association/membership  65100.00\n",
      "1023                  veterinary biotech  89000.00\n",
      "1024              wholesale distribution  87335.33\n",
      "\n",
      "[1025 rows x 2 columns]\n"
     ]
    }
   ],
   "source": [
    "print(average_salary)"
   ]
  },
  {
   "cell_type": "code",
   "execution_count": 82,
   "id": "afd9f4df-6fac-4ffd-91e8-49633e3d56cd",
   "metadata": {},
   "outputs": [],
   "source": [
    "data = {\n",
    "    'Industry': [\n",
    "        'Buyer',\n",
    "        'Veterinary medicine', \n",
    "        '\"Government Relations\" (Lobbying)', \n",
    "        'Academia - STEM', \n",
    "        'Academia / Research', \n",
    "        ' technology/SaaS',\n",
    "        'trade association',\n",
    "        'trade association/membershiph',\n",
    "        'veterinary biotech',\n",
    "        'wholesale distribution'  \n",
    "    ],\n",
    "    'Count': [\n",
    "        76650.00, \n",
    "        155000.00, \n",
    "         65000.00, \n",
    "        32000.00, \n",
    "         68500.00,\n",
    "        87500.00,\n",
    "        195000.00,\n",
    "        65100.00,\n",
    "        89000.00,\n",
    "        87335.33\n",
    "    ]\n",
    "}"
   ]
  },
  {
   "cell_type": "code",
   "execution_count": 83,
   "id": "4a213688-2282-4baa-8326-e3b0061e0ded",
   "metadata": {},
   "outputs": [],
   "source": [
    "df = pd.DataFrame(data)"
   ]
  },
  {
   "cell_type": "code",
   "execution_count": 84,
   "id": "d89be03b-1867-49b1-b469-280e091b7e19",
   "metadata": {},
   "outputs": [
    {
     "name": "stdout",
     "output_type": "stream",
     "text": [
      "                            Industry     Count\n",
      "0                              Buyer  76650.00\n",
      "1                Veterinary medicine 155000.00\n",
      "2  \"Government Relations\" (Lobbying)  65000.00\n",
      "3                    Academia - STEM  32000.00\n",
      "4                Academia / Research  68500.00\n",
      "5                    technology/SaaS  87500.00\n",
      "6                  trade association 195000.00\n",
      "7      trade association/membershiph  65100.00\n",
      "8                 veterinary biotech  89000.00\n",
      "9             wholesale distribution  87335.33\n"
     ]
    }
   ],
   "source": [
    "print(df)"
   ]
  },
  {
   "cell_type": "code",
   "execution_count": 85,
   "id": "b776be20-aa82-4b0d-a6c3-a76953fb2060",
   "metadata": {},
   "outputs": [
    {
     "data": {
      "text/plain": [
       "Text(0.5, 1.0, 'Average Salary by Education Level')"
      ]
     },
     "execution_count": 85,
     "metadata": {},
     "output_type": "execute_result"
    },
    {
     "data": {
      "image/png": "[encoded data removed]",
      "text/plain": [
       "<Figure size 640x480 with 1 Axes>"
      ]
     },
     "metadata": {},
     "output_type": "display_data"
    }
   ],
   "source": [
    "sns.barplot(x='Count', y='Industry', data=df, color=\"r\")\n",
    "plt.xlabel('Average Salary')\n",
    "plt.ylabel('Count')\n",
    "plt.title('Average Salary by Education Level')"
   ]
  },
  {
   "cell_type": "code",
   "execution_count": null,
   "id": "9dabd65e-1db9-43f2-8ef2-bd783e4c0805",
   "metadata": {},
   "outputs": [],
   "source": []
  },
  {
   "cell_type": "code",
   "execution_count": null,
   "id": "3537c480-5fbc-4504-900b-5fec926cc03d",
   "metadata": {},
   "outputs": [],
   "source": []
  }
 ],
 "metadata": {
  "kernelspec": {
   "display_name": "Python 3 (ipykernel)",
   "language": "python",
   "name": "python3"
  },
  "language_info": {
   "codemirror_mode": {
    "name": "ipython",
    "version": 3
   },
   "file_extension": ".py",
   "mimetype": "text/x-python",
   "name": "python",
   "nbconvert_exporter": "python",
   "pygments_lexer": "ipython3",
   "version": "3.12.4"
  }
 },
 "nbformat": 4,
 "nbformat_minor": 5
}
